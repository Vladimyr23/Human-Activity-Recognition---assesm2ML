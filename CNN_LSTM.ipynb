{
 "cells": [
  {
   "cell_type": "code",
   "execution_count": 1,
   "metadata": {},
   "outputs": [],
   "source": [
    "from collections import defaultdict\n",
    "from pathlib import Path\n",
    "import pandas as pd\n",
    "\n",
    "import matplotlib.pyplot as plt\n",
    "import numpy as np"
   ]
  },
  {
   "cell_type": "code",
   "execution_count": 2,
   "metadata": {},
   "outputs": [],
   "source": [
    "#\"D:\\MScAI\\Semester1\\CS5062MachineLearning\\AssessmII\\CS5062_AssessmentII_Dataset\\\""
   ]
  },
  {
   "cell_type": "code",
   "execution_count": 3,
   "metadata": {},
   "outputs": [],
   "source": [
    "import os\n",
    "os.chdir(\"D:/MScAI/Semester1/CS5062MachineLearning/AssessmII/CS5062_AssessmentII_Dataset/\")"
   ]
  },
  {
   "cell_type": "code",
   "execution_count": 4,
   "metadata": {},
   "outputs": [],
   "source": [
    "X_train_path = \"D:/MScAI/Semester1/CS5062MachineLearning/AssessmII/CS5062_AssessmentII_Dataset/train/X_train/\"\n",
    "X_test_path = \"D:/MScAI/Semester1/CS5062MachineLearning/AssessmII/CS5062_AssessmentII_Dataset/test/X_test/\""
   ]
  },
  {
   "cell_type": "code",
   "execution_count": 5,
   "metadata": {
    "scrolled": true
   },
   "outputs": [
    {
     "name": "stdout",
     "output_type": "stream",
     "text": [
      "['acc_x_train.txt', 'acc_y_train.txt', 'acc_z_train.txt', 'gyro_x_train.txt', 'gyro_y_train.txt', 'gyro_z_train.txt']\n"
     ]
    },
    {
     "data": {
      "text/plain": [
       "(7352, 128, 6)"
      ]
     },
     "execution_count": 5,
     "metadata": {},
     "output_type": "execute_result"
    }
   ],
   "source": [
    "#Loading training data from files\n",
    "X_filelist = os.listdir(X_train_path)\n",
    "print(X_filelist)        \n",
    "\n",
    "# X_train_df = pd.concat([pd.read_csv(X_train_path+item, names=[item[:-4]], header=None) for item in X_filelist], axis=1)\n",
    "# #print(X_train_df)\n",
    "# print(X_train_df.shape)\n",
    "# X_train_df.head()\n",
    "X_train=list()\n",
    "for name in X_filelist:\n",
    "    data = pd.read_csv(X_train_path+name, header=None, delim_whitespace=True)\n",
    "    X_train.append(data)\n",
    "# stack group so that features are the 3rd dimension\n",
    "X_train = np.dstack(X_train)\n",
    "X_train[0:5]\n",
    "X_train.shape"
   ]
  },
  {
   "cell_type": "code",
   "execution_count": 6,
   "metadata": {},
   "outputs": [
    {
     "name": "stdout",
     "output_type": "stream",
     "text": [
      "(7352, 1)\n"
     ]
    }
   ],
   "source": [
    "y_train_df = pd.read_csv(\"D:/MScAI/Semester1/CS5062MachineLearning/AssessmII/CS5062_AssessmentII_Dataset/train/y_train.txt\", header=None)\n",
    "#print(y_train_df)\n",
    "print(y_train_df.shape)"
   ]
  },
  {
   "cell_type": "code",
   "execution_count": 7,
   "metadata": {
    "scrolled": false
   },
   "outputs": [],
   "source": [
    "# print(X_train_df.dtypes)\n",
    "# #s=X_train_df[\"acc_x_train\"][0]\n",
    "\n",
    "# # floats_list = []\n",
    "# # for item in s.split():\n",
    "# #   floats_list.append(float(item))\n",
    "\n",
    "# #print(floats_list)\n",
    "# for key, value in X_train_df.iteritems():\n",
    "#     floats_list = []\n",
    "#     for item in value.str.split():\n",
    "#         floats_list.append(item)\n",
    "#     value=floats_list\n",
    "    \n",
    "    \n",
    "# print(X_train_df.shape)\n",
    "# #X_train_df.head()\n",
    "# print(X_train_df.dtypes)\n",
    "# X_train_df.head()"
   ]
  },
  {
   "cell_type": "code",
   "execution_count": 8,
   "metadata": {},
   "outputs": [],
   "source": [
    "# X_train = X_train_df.values\n",
    "# y_train = y_train_df.values\n",
    "# print(len(X_train), len(X_train[0]))\n",
    "# print(X_train.shape)\n",
    "# print(len(y_train))\n",
    "# print(y_train.shape)\n",
    "# print('ROW',X_train[0])\n",
    "# print('column ', X_train[1])"
   ]
  },
  {
   "cell_type": "code",
   "execution_count": 9,
   "metadata": {
    "scrolled": true
   },
   "outputs": [
    {
     "name": "stdout",
     "output_type": "stream",
     "text": [
      "['acc_x_test.txt', 'acc_y_test.txt', 'acc_z_test.txt', 'gyro_x_test.txt', 'gyro_y_test.txt', 'gyro_z_test.txt']\n"
     ]
    },
    {
     "data": {
      "text/plain": [
       "(2947, 128, 6)"
      ]
     },
     "execution_count": 9,
     "metadata": {},
     "output_type": "execute_result"
    }
   ],
   "source": [
    "#Loading testing data from files\n",
    "X_filelist = os.listdir(X_test_path)\n",
    "print(X_filelist)        \n",
    "\n",
    "X_test=list()\n",
    "for name in X_filelist:\n",
    "    data = pd.read_csv(X_test_path+name, header=None, delim_whitespace=True)\n",
    "    X_test.append(data)\n",
    "# stack group so that features are the 3rd dimension\n",
    "X_test = np.dstack(X_test)\n",
    "X_test[0:5]\n",
    "X_test.shape"
   ]
  },
  {
   "cell_type": "code",
   "execution_count": 10,
   "metadata": {},
   "outputs": [
    {
     "name": "stdout",
     "output_type": "stream",
     "text": [
      "(2947, 1)\n"
     ]
    }
   ],
   "source": [
    "y_test_df = pd.read_csv(\"D:/MScAI/Semester1/CS5062MachineLearning/AssessmII/CS5062_AssessmentII_Dataset/test/y_test.txt\", header=None)\n",
    "#print(y_test_df)\n",
    "print(y_test_df.shape)"
   ]
  },
  {
   "cell_type": "code",
   "execution_count": 11,
   "metadata": {},
   "outputs": [],
   "source": [
    "# summarize the balance of classes in an output variable column\n",
    "def class_breakdown(data):\n",
    "    # convert the numpy array into a dataframe\n",
    "    df = pd.DataFrame(data)\n",
    "    # group data by the class value and calculate the number of rows\n",
    "    counts = df.groupby(0).size()\n",
    "    # retrieve raw rows\n",
    "    counts = counts.values\n",
    "    # summarize\n",
    "    for i in range(len(counts)):\n",
    "        percent = counts[i] / len(df) * 100\n",
    "        print('Class=%d, total=%d, percentage=%.3f' % (i+1, counts[i], percent))"
   ]
  },
  {
   "cell_type": "code",
   "execution_count": 12,
   "metadata": {},
   "outputs": [
    {
     "name": "stdout",
     "output_type": "stream",
     "text": [
      "Train Dataset\n",
      "Class=1, total=1226, percentage=16.676\n",
      "Class=2, total=1073, percentage=14.595\n",
      "Class=3, total=986, percentage=13.411\n",
      "Class=4, total=1286, percentage=17.492\n",
      "Class=5, total=1374, percentage=18.689\n",
      "Class=6, total=1407, percentage=19.138\n"
     ]
    }
   ],
   "source": [
    "# summarize class breakdown\n",
    "print('Train Dataset')\n",
    "class_breakdown(y_train_df)"
   ]
  },
  {
   "cell_type": "code",
   "execution_count": 13,
   "metadata": {},
   "outputs": [
    {
     "name": "stdout",
     "output_type": "stream",
     "text": [
      "Test Dataset\n",
      "Class=1, total=496, percentage=16.831\n",
      "Class=2, total=471, percentage=15.982\n",
      "Class=3, total=420, percentage=14.252\n",
      "Class=4, total=491, percentage=16.661\n",
      "Class=5, total=532, percentage=18.052\n",
      "Class=6, total=537, percentage=18.222\n"
     ]
    }
   ],
   "source": [
    "# summarize class breakdown\n",
    "print('Test Dataset')\n",
    "class_breakdown(y_test_df)"
   ]
  },
  {
   "cell_type": "code",
   "execution_count": 14,
   "metadata": {},
   "outputs": [
    {
     "name": "stdout",
     "output_type": "stream",
     "text": [
      "Both\n",
      "Class=1, total=1722, percentage=16.720\n",
      "Class=2, total=1544, percentage=14.992\n",
      "Class=3, total=1406, percentage=13.652\n",
      "Class=4, total=1777, percentage=17.254\n",
      "Class=5, total=1906, percentage=18.507\n",
      "Class=6, total=1944, percentage=18.876\n"
     ]
    }
   ],
   "source": [
    "# summarize combined class breakdown\n",
    "print('Both')\n",
    "combined = np.vstack((y_train_df, y_test_df))\n",
    "class_breakdown(combined)"
   ]
  },
  {
   "cell_type": "code",
   "execution_count": 15,
   "metadata": {
    "scrolled": true
   },
   "outputs": [],
   "source": [
    "# convert a series of windows to a 1D list\n",
    "def to_series(windows):\n",
    "    series = list()\n",
    "    for window in windows:\n",
    "        # remove the overlap from the window\n",
    "        half = int(len(window) / 2) - 1\n",
    "        for value in window[-half:]:\n",
    "            series.append(value)\n",
    "    return series\n",
    " "
   ]
  },
  {
   "cell_type": "code",
   "execution_count": 16,
   "metadata": {},
   "outputs": [],
   "source": [
    "y_train = np.array(y_train_df)\n",
    "y_test = np.array(y_test_df)"
   ]
  },
  {
   "cell_type": "code",
   "execution_count": 17,
   "metadata": {
    "scrolled": true
   },
   "outputs": [
    {
     "data": {
      "image/png": "[encoded data removed]",
      "text/plain": [
       "<Figure size 432x288 with 7 Axes>"
      ]
     },
     "metadata": {
      "needs_background": "light"
     },
     "output_type": "display_data"
    }
   ],
   "source": [
    "from matplotlib import pyplot\n",
    "\n",
    "pyplot.figure()\n",
    "# determine the total number of plots\n",
    "n, off = X_train.shape[2] + 1, 0\n",
    "# plot acc\n",
    "for i in range(3):\n",
    "    pyplot.subplot(n, 1, off+1)\n",
    "    pyplot.plot(to_series(X_train[:, :, off]))\n",
    "    pyplot.title('acc '+str(i), y=0, loc='left')\n",
    "    off += 1\n",
    "# plot gyro\n",
    "for i in range(3):\n",
    "    pyplot.subplot(n, 1, off+1)\n",
    "    pyplot.plot(to_series(X_train[:, :, off]))\n",
    "    pyplot.title('gyro '+str(i), y=0, loc='left')\n",
    "    off += 1\n",
    "pyplot.subplot(n, 1, n)\n",
    "pyplot.plot(y_train_df)\n",
    "pyplot.title('activity', y=0, loc='left')\n",
    "pyplot.show()"
   ]
  },
  {
   "cell_type": "code",
   "execution_count": 18,
   "metadata": {},
   "outputs": [],
   "source": [
    "# group data by activity\n",
    "def data_by_activity(X, y, activities):\n",
    "    # group windows by activity\n",
    "    return {a:X[y[:,0]==a, :, :] for a in activities}"
   ]
  },
  {
   "cell_type": "code",
   "execution_count": 19,
   "metadata": {
    "scrolled": true
   },
   "outputs": [
    {
     "name": "stderr",
     "output_type": "stream",
     "text": [
      "C:\\ProgramData\\Anaconda3\\lib\\site-packages\\ipykernel_launcher.py:14: MatplotlibDeprecationWarning: Adding an axes using the same arguments as a previous axes currently reuses the earlier instance.  In a future version, a new instance will always be created and returned.  Meanwhile, this warning can be suppressed, and the future behavior ensured, by passing a unique label to each axes instance.\n",
      "  \n"
     ]
    },
    {
     "data": {
      "image/png": "[encoded data removed]",
      "text/plain": [
       "<Figure size 432x288 with 6 Axes>"
      ]
     },
     "metadata": {
      "needs_background": "light"
     },
     "output_type": "display_data"
    }
   ],
   "source": [
    "# plot histograms for each activity for a subject\n",
    "\n",
    "# get a list of unique activities for the subject\n",
    "activity_ids = np.unique(y_train[:,0])\n",
    "# group windows by activity\n",
    "grouped = data_by_activity(X_train, y_train, activity_ids)\n",
    "# plot per activity, histograms for each axis\n",
    "pyplot.figure()\n",
    "xaxis = None\n",
    "for k in range(len(activity_ids)):\n",
    "    act_id = activity_ids[k]\n",
    "    # total acceleration\n",
    "    for i in range(3):\n",
    "        ax = pyplot.subplot(len(activity_ids), 1, k+1, sharex=xaxis)\n",
    "        ax.set_xlim(-1,1)\n",
    "        if k == 0:\n",
    "            xaxis = ax\n",
    "        pyplot.hist(to_series(grouped[act_id][:,:,i]), bins=100)\n",
    "        pyplot.title('activity '+str(act_id), y=0, loc='left')\n",
    "pyplot.show()"
   ]
  },
  {
   "cell_type": "code",
   "execution_count": 21,
   "metadata": {
    "scrolled": true
   },
   "outputs": [],
   "source": [
    "from keras.models import Sequential\n",
    "from keras.layers import Dense\n",
    "from keras.layers import Flatten\n",
    "from keras.layers import Dropout\n",
    "from keras.layers import LSTM\n",
    "from keras.layers import TimeDistributed\n",
    "from keras.layers import ConvLSTM2D\n",
    "from keras.utils import to_categorical"
   ]
  },
  {
   "cell_type": "code",
   "execution_count": 22,
   "metadata": {},
   "outputs": [],
   "source": [
    "y_train = to_categorical(y_train)\n",
    "y_test = to_categorical(y_test)\n",
    "\n",
    "verbose, epochs, batch_size = 1, 25, 64\n",
    "n_timesteps, n_features, n_outputs = X_train.shape[1], X_train.shape[2], y_train.shape[1]\n",
    "# reshape into subsequences (samples, time steps, rows, cols, channels)\n",
    "n_steps, n_length = 4, 32\n",
    "X_train = X_train.reshape((X_train.shape[0], n_steps, 1, n_length, n_features))\n",
    "X_test = X_test.reshape((X_test.shape[0], n_steps, 1, n_length, n_features))"
   ]
  },
  {
   "cell_type": "code",
   "execution_count": 23,
   "metadata": {
    "scrolled": true
   },
   "outputs": [
    {
     "name": "stdout",
     "output_type": "stream",
     "text": [
      "WARNING:tensorflow:From C:\\ProgramData\\Anaconda3\\lib\\site-packages\\tensorflow\\python\\ops\\math_grad.py:1250: add_dispatch_support.<locals>.wrapper (from tensorflow.python.ops.array_ops) is deprecated and will be removed in a future version.\n",
      "Instructions for updating:\n",
      "Use tf.where in 2.0, which has the same broadcast rule as np.where\n",
      "WARNING:tensorflow:From C:\\ProgramData\\Anaconda3\\lib\\site-packages\\keras\\backend\\tensorflow_backend.py:422: The name tf.global_variables is deprecated. Please use tf.compat.v1.global_variables instead.\n",
      "\n",
      "Train on 7352 samples, validate on 2947 samples\n",
      "Epoch 1/25\n",
      "7352/7352 [==============================] - 7s 941us/step - loss: 0.7092 - accuracy: 0.7100 - val_loss: 0.6849 - val_accuracy: 0.7475\n",
      "Epoch 2/25\n",
      "7352/7352 [==============================] - 7s 890us/step - loss: 0.3431 - accuracy: 0.8647 - val_loss: 0.5638 - val_accuracy: 0.8018\n",
      "Epoch 3/25\n",
      "7352/7352 [==============================] - 7s 986us/step - loss: 0.2509 - accuracy: 0.9022 - val_loss: 0.5650 - val_accuracy: 0.8419\n",
      "Epoch 4/25\n",
      "7352/7352 [==============================] - 7s 956us/step - loss: 0.2001 - accuracy: 0.9191 - val_loss: 0.7542 - val_accuracy: 0.8273\n",
      "Epoch 5/25\n",
      "7352/7352 [==============================] - 7s 970us/step - loss: 0.1705 - accuracy: 0.9309 - val_loss: 1.0090 - val_accuracy: 0.8096\n",
      "Epoch 6/25\n",
      "7352/7352 [==============================] - 7s 1ms/step - loss: 0.1516 - accuracy: 0.9380 - val_loss: 0.7558 - val_accuracy: 0.8527\n",
      "Epoch 7/25\n",
      "7352/7352 [==============================] - 8s 1ms/step - loss: 0.1425 - accuracy: 0.9427 - val_loss: 0.8112 - val_accuracy: 0.8351\n",
      "Epoch 8/25\n",
      "7352/7352 [==============================] - 7s 983us/step - loss: 0.1456 - accuracy: 0.9416 - val_loss: 0.6216 - val_accuracy: 0.8463\n",
      "Epoch 9/25\n",
      "7352/7352 [==============================] - 8s 1ms/step - loss: 0.1261 - accuracy: 0.9484 - val_loss: 0.6618 - val_accuracy: 0.8619\n",
      "Epoch 10/25\n",
      "7352/7352 [==============================] - 8s 1ms/step - loss: 0.1233 - accuracy: 0.9489 - val_loss: 0.6644 - val_accuracy: 0.8575\n",
      "Epoch 11/25\n",
      "7352/7352 [==============================] - 7s 995us/step - loss: 0.1221 - accuracy: 0.9480 - val_loss: 0.7907 - val_accuracy: 0.8514\n",
      "Epoch 12/25\n",
      "7352/7352 [==============================] - 7s 943us/step - loss: 0.1145 - accuracy: 0.9527 - val_loss: 0.8363 - val_accuracy: 0.8622\n",
      "Epoch 13/25\n",
      "7352/7352 [==============================] - 7s 994us/step - loss: 0.1087 - accuracy: 0.9555 - val_loss: 0.8080 - val_accuracy: 0.8551\n",
      "Epoch 14/25\n",
      "7352/7352 [==============================] - 7s 971us/step - loss: 0.1199 - accuracy: 0.9508 - val_loss: 0.7034 - val_accuracy: 0.8514\n",
      "Epoch 15/25\n",
      "7352/7352 [==============================] - 7s 922us/step - loss: 0.1166 - accuracy: 0.9502 - val_loss: 0.9979 - val_accuracy: 0.8225\n",
      "Epoch 16/25\n",
      "7352/7352 [==============================] - 8s 1ms/step - loss: 0.1045 - accuracy: 0.9536 - val_loss: 1.0088 - val_accuracy: 0.8470\n",
      "Epoch 17/25\n",
      "7352/7352 [==============================] - 8s 1ms/step - loss: 0.1071 - accuracy: 0.9529 - val_loss: 0.8155 - val_accuracy: 0.8619\n",
      "Epoch 18/25\n",
      "7352/7352 [==============================] - 8s 1ms/step - loss: 0.0982 - accuracy: 0.9576 - val_loss: 0.9008 - val_accuracy: 0.8734\n",
      "Epoch 19/25\n",
      "7352/7352 [==============================] - 7s 936us/step - loss: 0.0974 - accuracy: 0.9576 - val_loss: 1.0757 - val_accuracy: 0.8504\n",
      "Epoch 20/25\n",
      "7352/7352 [==============================] - 7s 1ms/step - loss: 0.0951 - accuracy: 0.9573 - val_loss: 0.8069 - val_accuracy: 0.8744\n",
      "Epoch 21/25\n",
      "7352/7352 [==============================] - 7s 995us/step - loss: 0.0976 - accuracy: 0.9585 - val_loss: 1.1043 - val_accuracy: 0.8334\n",
      "Epoch 22/25\n",
      "7352/7352 [==============================] - 7s 1ms/step - loss: 0.1049 - accuracy: 0.9543 - val_loss: 0.7502 - val_accuracy: 0.8880\n",
      "Epoch 23/25\n",
      "7352/7352 [==============================] - 7s 1ms/step - loss: 0.0873 - accuracy: 0.9601 - val_loss: 0.9462 - val_accuracy: 0.8558\n",
      "Epoch 24/25\n",
      "7352/7352 [==============================] - 7s 1ms/step - loss: 0.0859 - accuracy: 0.9588 - val_loss: 1.0165 - val_accuracy: 0.8663\n",
      "Epoch 25/25\n",
      "7352/7352 [==============================] - 8s 1ms/step - loss: 0.0849 - accuracy: 0.9623 - val_loss: 1.0092 - val_accuracy: 0.8724\n"
     ]
    }
   ],
   "source": [
    "# # define model\n",
    "# def evaluate_model(X_train, y_train, X_test, y_test):\n",
    "#     verbose, epochs, batch_size = 1, 25, 64\n",
    "#     n_timesteps, n_features, n_outputs = X_train.shape[1], X_train.shape[2], y_train.shape[1]\n",
    "#     # reshape into subsequences (samples, time steps, rows, cols, channels)\n",
    "#     n_steps, n_length = 4, 32\n",
    "#     X_train = X_train.reshape((X_train.shape[0], n_steps, 1, n_length, n_features))\n",
    "#     X_test = X_test.reshape((X_test.shape[0], n_steps, 1, n_length, n_features))\n",
    "#     # define model\n",
    "#     model = Sequential()\n",
    "#     model.add(ConvLSTM2D(filters=64, kernel_size=(1,3), activation='relu', input_shape=(n_steps, 1, n_length, n_features)))\n",
    "#     model.add(Dropout(0.5))\n",
    "#     model.add(Flatten())\n",
    "#     model.add(Dense(100, activation='relu'))\n",
    "#     model.add(Dense(n_outputs, activation='softmax'))\n",
    "#     model.compile(loss='categorical_crossentropy', optimizer='adam', metrics=['accuracy'])\n",
    "#     # fit network\n",
    "#     history = model.fit(X_train, y_train, epochs=epochs, batch_size=batch_size, validation_data=(X_test, y_test), verbose=verbose)\n",
    "#     # evaluate model\n",
    "#     _, accuracy = model.evaluate(X_test, y_test, batch_size=batch_size, verbose=1)\n",
    "#     return accuracy, history\n",
    "# define model\n",
    "model = Sequential()\n",
    "model.add(ConvLSTM2D(filters=64, kernel_size=(1,3), activation='relu', input_shape=(n_steps, 1, n_length, n_features)))\n",
    "model.add(Dropout(0.5))\n",
    "model.add(Flatten())\n",
    "model.add(Dense(100, activation='relu'))\n",
    "model.add(Dense(n_outputs, activation='softmax'))\n",
    "model.compile(loss='categorical_crossentropy', optimizer='adam', metrics=['accuracy'])\n",
    "# fit network\n",
    "history = model.fit(X_train, y_train, epochs=epochs, batch_size=batch_size, validation_data=(X_test, y_test), verbose=verbose)\n",
    "# # evaluate model\n",
    "# _, accuracy = model.evaluate(X_test, y_test, batch_size=batch_size, verbose=1)"
   ]
  },
  {
   "cell_type": "code",
   "execution_count": 23,
   "metadata": {},
   "outputs": [],
   "source": [
    "# # summarize scores\n",
    "# def summarize_results(scores):\n",
    "#     print(scores)\n",
    "#     m, s = np.mean(scores), np.std(scores)\n",
    "#     print('Accuracy: %.3f%% (+/-%.3f)' % (m, s))\n"
   ]
  },
  {
   "cell_type": "code",
   "execution_count": 24,
   "metadata": {
    "scrolled": true
   },
   "outputs": [
    {
     "name": "stdout",
     "output_type": "stream",
     "text": [
      "WARNING:tensorflow:From C:\\ProgramData\\Anaconda3\\lib\\site-packages\\tensorflow\\python\\ops\\math_grad.py:1250: add_dispatch_support.<locals>.wrapper (from tensorflow.python.ops.array_ops) is deprecated and will be removed in a future version.\n",
      "Instructions for updating:\n",
      "Use tf.where in 2.0, which has the same broadcast rule as np.where\n",
      "WARNING:tensorflow:From C:\\ProgramData\\Anaconda3\\lib\\site-packages\\keras\\backend\\tensorflow_backend.py:422: The name tf.global_variables is deprecated. Please use tf.compat.v1.global_variables instead.\n",
      "\n",
      "Train on 7352 samples, validate on 2947 samples\n",
      "Epoch 1/25\n",
      "7352/7352 [==============================] - 7s 889us/step - loss: 0.6757 - accuracy: 0.7303 - val_loss: 0.6642 - val_accuracy: 0.7536\n",
      "Epoch 2/25\n",
      "7352/7352 [==============================] - 7s 890us/step - loss: 0.3611 - accuracy: 0.8566 - val_loss: 0.8009 - val_accuracy: 0.7825\n",
      "Epoch 3/25\n",
      "7352/7352 [==============================] - 7s 935us/step - loss: 0.2657 - accuracy: 0.8953 - val_loss: 0.9468 - val_accuracy: 0.8076\n",
      "Epoch 4/25\n",
      "7352/7352 [==============================] - 7s 965us/step - loss: 0.2056 - accuracy: 0.9192 - val_loss: 1.1425 - val_accuracy: 0.8103\n",
      "Epoch 5/25\n",
      "7352/7352 [==============================] - 7s 965us/step - loss: 0.1815 - accuracy: 0.9252 - val_loss: 0.7066 - val_accuracy: 0.8202\n",
      "Epoch 6/25\n",
      "7352/7352 [==============================] - 8s 1ms/step - loss: 0.1535 - accuracy: 0.9368 - val_loss: 0.7994 - val_accuracy: 0.8358\n",
      "Epoch 7/25\n",
      "7352/7352 [==============================] - 7s 963us/step - loss: 0.1432 - accuracy: 0.9389 - val_loss: 0.7561 - val_accuracy: 0.8358\n",
      "Epoch 8/25\n",
      "7352/7352 [==============================] - 7s 934us/step - loss: 0.1446 - accuracy: 0.9400 - val_loss: 0.9775 - val_accuracy: 0.8317\n",
      "Epoch 9/25\n",
      "7352/7352 [==============================] - 7s 980us/step - loss: 0.1322 - accuracy: 0.9449 - val_loss: 1.1656 - val_accuracy: 0.8130\n",
      "Epoch 10/25\n",
      "7352/7352 [==============================] - 7s 970us/step - loss: 0.1339 - accuracy: 0.9426 - val_loss: 0.8670 - val_accuracy: 0.8544\n",
      "Epoch 11/25\n",
      "7352/7352 [==============================] - 7s 965us/step - loss: 0.1183 - accuracy: 0.9504 - val_loss: 0.9872 - val_accuracy: 0.8517\n",
      "Epoch 12/25\n",
      "7352/7352 [==============================] - 8s 1ms/step - loss: 0.1124 - accuracy: 0.9508 - val_loss: 1.0250 - val_accuracy: 0.8442\n",
      "Epoch 13/25\n",
      "7352/7352 [==============================] - 8s 1ms/step - loss: 0.1178 - accuracy: 0.9504 - val_loss: 1.2967 - val_accuracy: 0.8419\n",
      "Epoch 14/25\n",
      "7352/7352 [==============================] - 7s 970us/step - loss: 0.1071 - accuracy: 0.9548 - val_loss: 1.3296 - val_accuracy: 0.8412\n",
      "Epoch 15/25\n",
      "7352/7352 [==============================] - 7s 958us/step - loss: 0.0980 - accuracy: 0.9555 - val_loss: 1.6781 - val_accuracy: 0.8222\n",
      "Epoch 16/25\n",
      "7352/7352 [==============================] - 7s 970us/step - loss: 0.0943 - accuracy: 0.9578 - val_loss: 1.4480 - val_accuracy: 0.8480\n",
      "Epoch 17/25\n",
      "7352/7352 [==============================] - 7s 953us/step - loss: 0.0954 - accuracy: 0.9572 - val_loss: 2.0507 - val_accuracy: 0.8259\n",
      "Epoch 18/25\n",
      "7352/7352 [==============================] - 7s 982us/step - loss: 0.0938 - accuracy: 0.9581 - val_loss: 1.9607 - val_accuracy: 0.8487\n",
      "Epoch 19/25\n",
      "7352/7352 [==============================] - 7s 948us/step - loss: 0.0859 - accuracy: 0.9603 - val_loss: 1.7752 - val_accuracy: 0.8633\n",
      "Epoch 20/25\n",
      "7352/7352 [==============================] - 7s 961us/step - loss: 0.0934 - accuracy: 0.9601 - val_loss: 1.3660 - val_accuracy: 0.8656\n",
      "Epoch 21/25\n",
      "7352/7352 [==============================] - 7s 971us/step - loss: 0.0974 - accuracy: 0.9599 - val_loss: 0.6867 - val_accuracy: 0.8826\n",
      "Epoch 22/25\n",
      "7352/7352 [==============================] - 7s 962us/step - loss: 0.0845 - accuracy: 0.9630 - val_loss: 1.0692 - val_accuracy: 0.8378\n",
      "Epoch 23/25\n",
      "7352/7352 [==============================] - 7s 978us/step - loss: 0.0821 - accuracy: 0.9612 - val_loss: 0.9470 - val_accuracy: 0.8466\n",
      "Epoch 24/25\n",
      "7352/7352 [==============================] - 7s 957us/step - loss: 0.0789 - accuracy: 0.9656 - val_loss: 0.9312 - val_accuracy: 0.8527\n",
      "Epoch 25/25\n",
      "7352/7352 [==============================] - 8s 1ms/step - loss: 0.0781 - accuracy: 0.9653 - val_loss: 0.8413 - val_accuracy: 0.8649\n",
      "2947/2947 [==============================] - 1s 244us/step\n",
      "----------->#1: 86.495\n",
      "Train on 7352 samples, validate on 2947 samples\n",
      "Epoch 1/25\n",
      "7352/7352 [==============================] - 8s 1ms/step - loss: 0.7004 - accuracy: 0.7180 - val_loss: 0.7106 - val_accuracy: 0.7441\n",
      "Epoch 2/25\n",
      "7352/7352 [==============================] - 7s 986us/step - loss: 0.3582 - accuracy: 0.8596 - val_loss: 0.7466 - val_accuracy: 0.7876\n",
      "Epoch 3/25\n",
      "7352/7352 [==============================] - 7s 941us/step - loss: 0.2635 - accuracy: 0.8962 - val_loss: 0.7686 - val_accuracy: 0.8018\n",
      "Epoch 4/25\n",
      "7352/7352 [==============================] - 7s 967us/step - loss: 0.2004 - accuracy: 0.9229 - val_loss: 1.1970 - val_accuracy: 0.8035\n",
      "Epoch 5/25\n",
      "7352/7352 [==============================] - 7s 943us/step - loss: 0.1824 - accuracy: 0.9286 - val_loss: 0.7009 - val_accuracy: 0.8280\n",
      "Epoch 6/25\n",
      "7352/7352 [==============================] - 7s 977us/step - loss: 0.1463 - accuracy: 0.9404 - val_loss: 0.6966 - val_accuracy: 0.8429\n",
      "Epoch 7/25\n",
      "7352/7352 [==============================] - 7s 942us/step - loss: 0.1428 - accuracy: 0.9403 - val_loss: 0.7393 - val_accuracy: 0.8476\n",
      "Epoch 8/25\n",
      "7352/7352 [==============================] - 7s 957us/step - loss: 0.1373 - accuracy: 0.9438 - val_loss: 1.1182 - val_accuracy: 0.8222\n",
      "Epoch 9/25\n",
      "7352/7352 [==============================] - 7s 965us/step - loss: 0.1301 - accuracy: 0.9468 - val_loss: 1.0375 - val_accuracy: 0.8504\n",
      "Epoch 10/25\n",
      "7352/7352 [==============================] - 7s 975us/step - loss: 0.1202 - accuracy: 0.9509 - val_loss: 1.0240 - val_accuracy: 0.8565\n",
      "Epoch 11/25\n",
      "7352/7352 [==============================] - 7s 1ms/step - loss: 0.1122 - accuracy: 0.9517 - val_loss: 1.2023 - val_accuracy: 0.8473\n",
      "Epoch 12/25\n",
      "7352/7352 [==============================] - 8s 1ms/step - loss: 0.1142 - accuracy: 0.9517 - val_loss: 1.3721 - val_accuracy: 0.8371\n",
      "Epoch 13/25\n",
      "7352/7352 [==============================] - 8s 1ms/step - loss: 0.1120 - accuracy: 0.9520 - val_loss: 1.3430 - val_accuracy: 0.8666\n",
      "Epoch 14/25\n",
      "7352/7352 [==============================] - 7s 952us/step - loss: 0.1092 - accuracy: 0.9527 - val_loss: 1.7265 - val_accuracy: 0.8181\n",
      "Epoch 15/25\n",
      "7352/7352 [==============================] - 7s 979us/step - loss: 0.1131 - accuracy: 0.9542 - val_loss: 1.5085 - val_accuracy: 0.8480\n",
      "Epoch 16/25\n",
      "7352/7352 [==============================] - 7s 964us/step - loss: 0.1064 - accuracy: 0.9544 - val_loss: 1.7431 - val_accuracy: 0.8510\n",
      "Epoch 17/25\n",
      "7352/7352 [==============================] - 7s 986us/step - loss: 0.0959 - accuracy: 0.9587 - val_loss: 1.5368 - val_accuracy: 0.8653\n",
      "Epoch 18/25\n",
      "7352/7352 [==============================] - 8s 1ms/step - loss: 0.0952 - accuracy: 0.9572 - val_loss: 1.7976 - val_accuracy: 0.8544\n",
      "Epoch 19/25\n",
      "7352/7352 [==============================] - 8s 1ms/step - loss: 0.1013 - accuracy: 0.9553 - val_loss: 1.3092 - val_accuracy: 0.8500\n",
      "Epoch 20/25\n",
      "7352/7352 [==============================] - 8s 1ms/step - loss: 0.1096 - accuracy: 0.9561 - val_loss: 1.1526 - val_accuracy: 0.8456\n",
      "Epoch 21/25\n",
      "7352/7352 [==============================] - 8s 1ms/step - loss: 0.0927 - accuracy: 0.9601 - val_loss: 1.2181 - val_accuracy: 0.8802\n",
      "Epoch 22/25\n",
      "7352/7352 [==============================] - 8s 1ms/step - loss: 0.0828 - accuracy: 0.9625 - val_loss: 1.5289 - val_accuracy: 0.8649\n",
      "Epoch 23/25\n",
      "7352/7352 [==============================] - 7s 999us/step - loss: 0.0966 - accuracy: 0.9570 - val_loss: 1.9478 - val_accuracy: 0.8375\n",
      "Epoch 24/25\n",
      "7352/7352 [==============================] - 7s 997us/step - loss: 0.0988 - accuracy: 0.9581 - val_loss: 1.6812 - val_accuracy: 0.8490\n",
      "Epoch 25/25\n",
      "7352/7352 [==============================] - 7s 981us/step - loss: 0.0756 - accuracy: 0.9644 - val_loss: 1.9714 - val_accuracy: 0.8510\n",
      "2947/2947 [==============================] - 1s 277us/step\n",
      "----------->#2: 85.103\n",
      "Train on 7352 samples, validate on 2947 samples\n",
      "Epoch 1/25\n"
     ]
    },
    {
     "name": "stdout",
     "output_type": "stream",
     "text": [
      "7352/7352 [==============================] - 8s 1ms/step - loss: 0.6891 - accuracy: 0.7209 - val_loss: 0.7098 - val_accuracy: 0.7509\n",
      "Epoch 2/25\n",
      "7352/7352 [==============================] - 7s 993us/step - loss: 0.3314 - accuracy: 0.8705 - val_loss: 0.6779 - val_accuracy: 0.8124\n",
      "Epoch 3/25\n",
      "7352/7352 [==============================] - 7s 1ms/step - loss: 0.2415 - accuracy: 0.9082 - val_loss: 0.6799 - val_accuracy: 0.8232\n",
      "Epoch 4/25\n",
      "7352/7352 [==============================] - 7s 980us/step - loss: 0.2045 - accuracy: 0.9195 - val_loss: 0.9564 - val_accuracy: 0.8110\n",
      "Epoch 5/25\n",
      "7352/7352 [==============================] - 7s 1ms/step - loss: 0.1806 - accuracy: 0.9289 - val_loss: 0.8139 - val_accuracy: 0.8388\n",
      "Epoch 6/25\n",
      "7352/7352 [==============================] - 7s 963us/step - loss: 0.1590 - accuracy: 0.9384 - val_loss: 0.9889 - val_accuracy: 0.8303\n",
      "Epoch 7/25\n",
      "7352/7352 [==============================] - 7s 993us/step - loss: 0.1404 - accuracy: 0.9408 - val_loss: 1.1537 - val_accuracy: 0.8548\n",
      "Epoch 8/25\n",
      "7352/7352 [==============================] - 7s 984us/step - loss: 0.1430 - accuracy: 0.9412 - val_loss: 0.5634 - val_accuracy: 0.8663\n",
      "Epoch 9/25\n",
      "7352/7352 [==============================] - 8s 1ms/step - loss: 0.1353 - accuracy: 0.9418 - val_loss: 0.5614 - val_accuracy: 0.8588\n",
      "Epoch 10/25\n",
      "7352/7352 [==============================] - 7s 1ms/step - loss: 0.1189 - accuracy: 0.9475 - val_loss: 0.7730 - val_accuracy: 0.8466\n",
      "Epoch 11/25\n",
      "7352/7352 [==============================] - 8s 1ms/step - loss: 0.1216 - accuracy: 0.9490 - val_loss: 0.8226 - val_accuracy: 0.8429\n",
      "Epoch 12/25\n",
      "7352/7352 [==============================] - 8s 1ms/step - loss: 0.1191 - accuracy: 0.9489 - val_loss: 0.7693 - val_accuracy: 0.8466\n",
      "Epoch 13/25\n",
      "7352/7352 [==============================] - 8s 1ms/step - loss: 0.1156 - accuracy: 0.9531 - val_loss: 1.1373 - val_accuracy: 0.8442\n",
      "Epoch 14/25\n",
      "7352/7352 [==============================] - 8s 1ms/step - loss: 0.1046 - accuracy: 0.9524 - val_loss: 1.0262 - val_accuracy: 0.8609\n",
      "Epoch 15/25\n",
      "7352/7352 [==============================] - 7s 1ms/step - loss: 0.1100 - accuracy: 0.9542 - val_loss: 1.3095 - val_accuracy: 0.8405\n",
      "Epoch 16/25\n",
      "7352/7352 [==============================] - 7s 1ms/step - loss: 0.1075 - accuracy: 0.9539 - val_loss: 1.4623 - val_accuracy: 0.8415\n",
      "Epoch 17/25\n",
      "7352/7352 [==============================] - 7s 1ms/step - loss: 0.1017 - accuracy: 0.9555 - val_loss: 1.4940 - val_accuracy: 0.8473\n",
      "Epoch 18/25\n",
      "7352/7352 [==============================] - 8s 1ms/step - loss: 0.0986 - accuracy: 0.9587 - val_loss: 1.0754 - val_accuracy: 0.8660\n",
      "Epoch 19/25\n",
      "7352/7352 [==============================] - 8s 1ms/step - loss: 0.0952 - accuracy: 0.9574 - val_loss: 1.6597 - val_accuracy: 0.8514\n",
      "Epoch 20/25\n",
      "7352/7352 [==============================] - 8s 1ms/step - loss: 0.0948 - accuracy: 0.9587 - val_loss: 1.3364 - val_accuracy: 0.8738\n",
      "Epoch 21/25\n",
      "7352/7352 [==============================] - 8s 1ms/step - loss: 0.0950 - accuracy: 0.9578 - val_loss: 1.7384 - val_accuracy: 0.8493\n",
      "Epoch 22/25\n",
      "7352/7352 [==============================] - 8s 1ms/step - loss: 0.0933 - accuracy: 0.9573 - val_loss: 1.2956 - val_accuracy: 0.8646\n",
      "Epoch 23/25\n",
      "7352/7352 [==============================] - 7s 1ms/step - loss: 0.0783 - accuracy: 0.9660 - val_loss: 1.7580 - val_accuracy: 0.8514\n",
      "Epoch 24/25\n",
      "7352/7352 [==============================] - 8s 1ms/step - loss: 0.0832 - accuracy: 0.9631 - val_loss: 1.8676 - val_accuracy: 0.8660\n",
      "Epoch 25/25\n",
      "7352/7352 [==============================] - 8s 1ms/step - loss: 0.0865 - accuracy: 0.9610 - val_loss: 2.2090 - val_accuracy: 0.8646\n",
      "2947/2947 [==============================] - 1s 214us/step\n",
      "----------->#3: 86.461\n",
      "Train on 7352 samples, validate on 2947 samples\n",
      "Epoch 1/25\n",
      "7352/7352 [==============================] - 8s 1ms/step - loss: 0.6736 - accuracy: 0.7295 - val_loss: 0.7725 - val_accuracy: 0.7424\n",
      "Epoch 2/25\n",
      "7352/7352 [==============================] - 7s 1ms/step - loss: 0.3677 - accuracy: 0.8527 - val_loss: 0.6699 - val_accuracy: 0.8093\n",
      "Epoch 3/25\n",
      "7352/7352 [==============================] - 8s 1ms/step - loss: 0.2513 - accuracy: 0.9040 - val_loss: 0.7366 - val_accuracy: 0.8361\n",
      "Epoch 4/25\n",
      "7352/7352 [==============================] - 7s 999us/step - loss: 0.1978 - accuracy: 0.9230 - val_loss: 0.7374 - val_accuracy: 0.8331\n",
      "Epoch 5/25\n",
      "7352/7352 [==============================] - 8s 1ms/step - loss: 0.1825 - accuracy: 0.9276 - val_loss: 0.9462 - val_accuracy: 0.8286\n",
      "Epoch 6/25\n",
      "7352/7352 [==============================] - 7s 1ms/step - loss: 0.1580 - accuracy: 0.9336 - val_loss: 1.1113 - val_accuracy: 0.8229\n",
      "Epoch 7/25\n",
      "7352/7352 [==============================] - 7s 993us/step - loss: 0.1465 - accuracy: 0.9397 - val_loss: 1.2533 - val_accuracy: 0.8202\n",
      "Epoch 8/25\n",
      "7352/7352 [==============================] - 8s 1ms/step - loss: 0.1420 - accuracy: 0.9380 - val_loss: 1.3392 - val_accuracy: 0.8256\n",
      "Epoch 9/25\n",
      "7352/7352 [==============================] - 8s 1ms/step - loss: 0.1285 - accuracy: 0.9465 - val_loss: 0.9291 - val_accuracy: 0.8633\n",
      "Epoch 10/25\n",
      "7352/7352 [==============================] - 8s 1ms/step - loss: 0.1252 - accuracy: 0.9483 - val_loss: 1.2856 - val_accuracy: 0.8303\n",
      "Epoch 11/25\n",
      "7352/7352 [==============================] - 7s 1ms/step - loss: 0.1267 - accuracy: 0.9436 - val_loss: 1.2453 - val_accuracy: 0.8395\n",
      "Epoch 12/25\n",
      "7352/7352 [==============================] - 7s 974us/step - loss: 0.1213 - accuracy: 0.9489 - val_loss: 1.1030 - val_accuracy: 0.8497\n",
      "Epoch 13/25\n",
      "7352/7352 [==============================] - 7s 999us/step - loss: 0.1119 - accuracy: 0.9510 - val_loss: 1.2891 - val_accuracy: 0.8554\n",
      "Epoch 14/25\n",
      "7352/7352 [==============================] - 7s 978us/step - loss: 0.1022 - accuracy: 0.9558 - val_loss: 1.4892 - val_accuracy: 0.8548\n",
      "Epoch 15/25\n",
      "7352/7352 [==============================] - 7s 999us/step - loss: 0.1046 - accuracy: 0.9539 - val_loss: 1.5407 - val_accuracy: 0.8571\n",
      "Epoch 16/25\n",
      "7352/7352 [==============================] - 7s 980us/step - loss: 0.0982 - accuracy: 0.9567 - val_loss: 1.8494 - val_accuracy: 0.8514\n",
      "Epoch 17/25\n",
      "7352/7352 [==============================] - 7s 988us/step - loss: 0.0921 - accuracy: 0.9591 - val_loss: 1.5665 - val_accuracy: 0.8178\n",
      "Epoch 18/25\n",
      "7352/7352 [==============================] - 7s 988us/step - loss: 0.0930 - accuracy: 0.9593 - val_loss: 1.6765 - val_accuracy: 0.8622\n",
      "Epoch 19/25\n",
      "7352/7352 [==============================] - 7s 973us/step - loss: 0.0861 - accuracy: 0.9600 - val_loss: 1.7302 - val_accuracy: 0.8531\n",
      "Epoch 20/25\n",
      "7352/7352 [==============================] - 7s 1ms/step - loss: 0.0899 - accuracy: 0.9621 - val_loss: 1.5332 - val_accuracy: 0.8510\n",
      "Epoch 21/25\n",
      "7352/7352 [==============================] - 7s 971us/step - loss: 0.0820 - accuracy: 0.9627 - val_loss: 1.8067 - val_accuracy: 0.8643\n",
      "Epoch 22/25\n",
      "7352/7352 [==============================] - 7s 1ms/step - loss: 0.0790 - accuracy: 0.9615 - val_loss: 1.8540 - val_accuracy: 0.8568\n",
      "Epoch 23/25\n",
      "7352/7352 [==============================] - 7s 971us/step - loss: 0.0872 - accuracy: 0.9614 - val_loss: 2.0759 - val_accuracy: 0.8381\n",
      "Epoch 24/25\n",
      "7352/7352 [==============================] - 7s 1ms/step - loss: 0.0742 - accuracy: 0.9663 - val_loss: 2.0895 - val_accuracy: 0.8466\n",
      "Epoch 25/25\n",
      "7352/7352 [==============================] - 7s 974us/step - loss: 0.0819 - accuracy: 0.9667 - val_loss: 1.6695 - val_accuracy: 0.8473\n",
      "2947/2947 [==============================] - 1s 238us/step\n",
      "----------->#4: 84.730\n",
      "Train on 7352 samples, validate on 2947 samples\n",
      "Epoch 1/25\n",
      "7352/7352 [==============================] - 8s 1ms/step - loss: 0.7059 - accuracy: 0.7108 - val_loss: 0.7283 - val_accuracy: 0.7458\n",
      "Epoch 2/25\n",
      "7352/7352 [==============================] - 7s 955us/step - loss: 0.3536 - accuracy: 0.8589 - val_loss: 0.7632 - val_accuracy: 0.7869\n",
      "Epoch 3/25\n",
      "7352/7352 [==============================] - 7s 990us/step - loss: 0.2574 - accuracy: 0.8992 - val_loss: 0.8409 - val_accuracy: 0.8113\n",
      "Epoch 4/25\n",
      "7352/7352 [==============================] - 7s 965us/step - loss: 0.1998 - accuracy: 0.9185 - val_loss: 1.0496 - val_accuracy: 0.8124\n",
      "Epoch 5/25\n"
     ]
    },
    {
     "name": "stdout",
     "output_type": "stream",
     "text": [
      "7352/7352 [==============================] - 7s 956us/step - loss: 0.1721 - accuracy: 0.9286 - val_loss: 1.3434 - val_accuracy: 0.7879\n",
      "Epoch 6/25\n",
      "7352/7352 [==============================] - 7s 946us/step - loss: 0.1664 - accuracy: 0.9309 - val_loss: 1.1789 - val_accuracy: 0.8317\n",
      "Epoch 7/25\n",
      "7352/7352 [==============================] - 7s 967us/step - loss: 0.1498 - accuracy: 0.9418 - val_loss: 1.2124 - val_accuracy: 0.8347\n",
      "Epoch 8/25\n",
      "7352/7352 [==============================] - 7s 960us/step - loss: 0.1420 - accuracy: 0.9414 - val_loss: 1.1656 - val_accuracy: 0.8480\n",
      "Epoch 9/25\n",
      "7352/7352 [==============================] - 7s 940us/step - loss: 0.1293 - accuracy: 0.9461 - val_loss: 1.1974 - val_accuracy: 0.8426\n",
      "Epoch 10/25\n",
      "7352/7352 [==============================] - 7s 967us/step - loss: 0.1172 - accuracy: 0.9490 - val_loss: 1.7259 - val_accuracy: 0.8191\n",
      "Epoch 11/25\n",
      "7352/7352 [==============================] - 7s 940us/step - loss: 0.1160 - accuracy: 0.9498 - val_loss: 1.4097 - val_accuracy: 0.8524\n",
      "Epoch 12/25\n",
      "7352/7352 [==============================] - 7s 971us/step - loss: 0.1087 - accuracy: 0.9535 - val_loss: 1.6352 - val_accuracy: 0.8663\n",
      "Epoch 13/25\n",
      "7352/7352 [==============================] - 7s 940us/step - loss: 0.1194 - accuracy: 0.9478 - val_loss: 1.2373 - val_accuracy: 0.8558\n",
      "Epoch 14/25\n",
      "7352/7352 [==============================] - 7s 953us/step - loss: 0.1057 - accuracy: 0.9531 - val_loss: 1.4029 - val_accuracy: 0.8527\n",
      "Epoch 15/25\n",
      "7352/7352 [==============================] - 7s 978us/step - loss: 0.1054 - accuracy: 0.9533 - val_loss: 1.3783 - val_accuracy: 0.8612\n",
      "Epoch 16/25\n",
      "7352/7352 [==============================] - 7s 956us/step - loss: 0.0960 - accuracy: 0.9573 - val_loss: 1.3592 - val_accuracy: 0.8626\n",
      "Epoch 17/25\n",
      "7352/7352 [==============================] - 7s 968us/step - loss: 0.0994 - accuracy: 0.9573 - val_loss: 1.7170 - val_accuracy: 0.8459\n",
      "Epoch 18/25\n",
      "7352/7352 [==============================] - 7s 980us/step - loss: 0.0984 - accuracy: 0.9572 - val_loss: 1.2652 - val_accuracy: 0.8833\n",
      "Epoch 19/25\n",
      "7352/7352 [==============================] - 7s 963us/step - loss: 0.0914 - accuracy: 0.9611 - val_loss: 1.8147 - val_accuracy: 0.8263\n",
      "Epoch 20/25\n",
      "7352/7352 [==============================] - 7s 932us/step - loss: 0.0945 - accuracy: 0.9577 - val_loss: 1.7769 - val_accuracy: 0.8490\n",
      "Epoch 21/25\n",
      "7352/7352 [==============================] - 7s 951us/step - loss: 0.0875 - accuracy: 0.9606 - val_loss: 1.6139 - val_accuracy: 0.8629\n",
      "Epoch 22/25\n",
      "7352/7352 [==============================] - 7s 937us/step - loss: 0.0917 - accuracy: 0.9576 - val_loss: 1.6241 - val_accuracy: 0.8575\n",
      "Epoch 23/25\n",
      "7352/7352 [==============================] - 7s 963us/step - loss: 0.0897 - accuracy: 0.9629 - val_loss: 1.5433 - val_accuracy: 0.8602\n",
      "Epoch 24/25\n",
      "7352/7352 [==============================] - 7s 993us/step - loss: 0.0846 - accuracy: 0.9627 - val_loss: 1.6453 - val_accuracy: 0.8514\n",
      "Epoch 25/25\n",
      "7352/7352 [==============================] - 7s 952us/step - loss: 0.0787 - accuracy: 0.9641 - val_loss: 1.7822 - val_accuracy: 0.8585\n",
      "2947/2947 [==============================] - 1s 238us/step\n",
      "----------->#5: 85.850\n",
      "[86.49473786354065, 85.1034939289093, 86.46080493927002, 84.73023176193237, 85.85001826286316]\n",
      "Accuracy: 85.728% (+/-0.711)\n"
     ]
    }
   ],
   "source": [
    "# # run an experiment\n",
    "# def run_experiment(X_train, y_train, X_test, y_test):\n",
    "#     repeats=5\n",
    "#     # repeat experiment\n",
    "#     scores = list()\n",
    "#     for r in range(repeats):\n",
    "#         score, history = evaluate_model(X_train, y_train, X_test, y_test)\n",
    "#         score = score * 100.0\n",
    "#         print('----------->#%d: %.3f' % (r+1, score))\n",
    "#         scores.append(score)\n",
    "#     # summarize results\n",
    "#     summarize_results(scores)\n",
    "#     return history\n",
    " \n",
    "# # run the experiment\n",
    "# history = run_experiment(X_train, y_train, X_test, y_test)"
   ]
  },
  {
   "cell_type": "code",
   "execution_count": 25,
   "metadata": {},
   "outputs": [
    {
     "name": "stdout",
     "output_type": "stream",
     "text": [
      "dict_keys(['val_loss', 'val_accuracy', 'loss', 'accuracy'])\n"
     ]
    }
   ],
   "source": [
    "# list all data in history\n",
    "print(history.history.keys())"
   ]
  },
  {
   "cell_type": "code",
   "execution_count": 44,
   "metadata": {},
   "outputs": [
    {
     "name": "stdout",
     "output_type": "stream",
     "text": [
      "2947/2947 [==============================] - 1s 191us/step\n"
     ]
    },
    {
     "data": {
      "text/plain": [
       "[1.0091601451691583, 0.8724126219749451]"
      ]
     },
     "execution_count": 44,
     "metadata": {},
     "output_type": "execute_result"
    }
   ],
   "source": [
    "model.evaluate(X_test, y_test)"
   ]
  },
  {
   "cell_type": "code",
   "execution_count": 26,
   "metadata": {},
   "outputs": [
    {
     "data": {
      "image/png": "[encoded data removed]",
      "text/plain": [
       "<Figure size 432x288 with 1 Axes>"
      ]
     },
     "metadata": {
      "needs_background": "light"
     },
     "output_type": "display_data"
    }
   ],
   "source": [
    "# summarize history for accuracy\n",
    "plt.plot(history.history['accuracy'])\n",
    "plt.plot(history.history['val_accuracy'])\n",
    "plt.title('model accuracy')\n",
    "plt.ylabel('accuracy')\n",
    "plt.xlabel('epoch')\n",
    "plt.legend(['train', 'test'], loc='upper left')\n",
    "plt.show()"
   ]
  },
  {
   "cell_type": "code",
   "execution_count": 27,
   "metadata": {},
   "outputs": [
    {
     "data": {
      "image/png": "[encoded data removed]",
      "text/plain": [
       "<Figure size 432x288 with 1 Axes>"
      ]
     },
     "metadata": {
      "needs_background": "light"
     },
     "output_type": "display_data"
    }
   ],
   "source": [
    "# summarize history for loss\n",
    "plt.plot(history.history['loss'])\n",
    "plt.plot(history.history['val_loss'])\n",
    "plt.title('model loss')\n",
    "plt.ylabel('loss')\n",
    "plt.xlabel('epoch')\n",
    "plt.legend(['train', 'test'], loc='upper left')\n",
    "plt.show()"
   ]
  },
  {
   "cell_type": "code",
   "execution_count": 38,
   "metadata": {},
   "outputs": [],
   "source": [
    "from sklearn.metrics import classification_report, confusion_matrix\n",
    "import itertools"
   ]
  },
  {
   "cell_type": "code",
   "execution_count": 31,
   "metadata": {},
   "outputs": [
    {
     "name": "stdout",
     "output_type": "stream",
     "text": [
      "[5 5 5 5 5] [5 5 5 5 5]\n"
     ]
    }
   ],
   "source": [
    "# history=classifier.fit_generator(training_set,\n",
    "#                         steps_per_epoch =9000 // batchsize,\n",
    "#                         epochs = 30,\n",
    "#                         validation_data =test_set,\n",
    "#                         validation_steps = 4500 // batchsize)\n",
    "\n",
    "Y_pred = model.predict(X_test)\n",
    "y_pred = np.argmax(Y_pred, axis=1)\n",
    "y_test_arr = np.argmax(y_test, axis=-1)\n",
    "print(y_pred[0:5], y_test_arr[0:5])"
   ]
  },
  {
   "cell_type": "code",
   "execution_count": 35,
   "metadata": {},
   "outputs": [],
   "source": [
    "#print('Confusion Matrix')\n",
    "cm = confusion_matrix(y_test_arr, y_pred)\n",
    "# print('Classification Report')\n",
    "# target_names = X_test.classes\n",
    "# class_labels = list(X_test.class_indices.keys())   \n",
    "# report = classification_report(target_names, y_pred, target_names=class_labels)\n",
    "# print(report)"
   ]
  },
  {
   "cell_type": "code",
   "execution_count": 56,
   "metadata": {},
   "outputs": [],
   "source": [
    "def plot_conf_matr(cm, classes, normalize = False, cmap=plt.cm.Blues):\n",
    "    plt.imshow(cm, interpolation='nearest', cmap=cmap)\n",
    "    plt.title('Confusion matrix')\n",
    "    plt.colorbar()\n",
    "    tick_marks=np.arange(len(classes))\n",
    "    plt.xticks(tick_marks,classes,rotation=90)\n",
    "    plt.yticks(tick_marks,classes)\n",
    "    if normalize:\n",
    "        cm=cm.astype('float')/cm.sum(axis=1)[:, np.newaxis]\n",
    "        print(\"Normalized confusion matrix\")\n",
    "    else:\n",
    "        print(\"Confusion matrix, without normalization\")\n",
    "        \n",
    "    print(cm)\n",
    "    \n",
    "    thresh = cm.max()/2\n",
    "    for i,j in itertools.product(range(cm.shape[0]), range(cm.shape[1])):\n",
    "        plt.text(j, i, cm[i, j],\n",
    "                horizontalalignment=\"center\",\n",
    "                color=\"white\" if cm[i,j] > thresh else \"black\")\n",
    "        \n",
    "    plt.tight_layout()\n",
    "    plt.ylabel('True label')\n",
    "    plt.xlabel('Predicted label')"
   ]
  },
  {
   "cell_type": "code",
   "execution_count": 57,
   "metadata": {},
   "outputs": [
    {
     "name": "stdout",
     "output_type": "stream",
     "text": [
      "Confusion matrix, without normalization\n",
      "[[423  23  46   0   4   0]\n",
      " [  7 434  30   0   0   0]\n",
      " [  6  10 384   1  19   0]\n",
      " [  0  21   0 425  42   3]\n",
      " [  1  39   0 109 383   0]\n",
      " [  0  15   0   0   0 522]]\n"
     ]
    },
    {
     "data": {
      "image/png": "[encoded data removed]",
      "text/plain": [
       "<Figure size 432x288 with 2 Axes>"
      ]
     },
     "metadata": {
      "needs_background": "light"
     },
     "output_type": "display_data"
    }
   ],
   "source": [
    "cm_plot_labels = ['1-WALKING', '2 WALKING_UPSTAIRS','3 WALKING_DOWNSTAIRS',\n",
    "                  '4 SITTING', '5 STANDING', '6 LAYING']\n",
    "plot_conf_matr(cm, cm_plot_labels)"
   ]
  },
  {
   "cell_type": "raw",
   "metadata": {},
   "source": [
    "• The x-axis showing recall \n",
    "    (= sensitivity = TP / (TP + FN)) \n",
    "• The y-axis showing precision \n",
    "    (= positive predictive value = TP / (TP + FP))"
   ]
  },
  {
   "cell_type": "code",
   "execution_count": 61,
   "metadata": {},
   "outputs": [
    {
     "name": "stdout",
     "output_type": "stream",
     "text": [
      "recall     0.9251529327096077\n",
      "precision  0.9386637458926615\n"
     ]
    }
   ],
   "source": [
    "tp = sum(cm[i][i] for i in range(len(cm)))\n",
    "fp = np.triu(cm).sum()-np.trace(cm)\n",
    "fn = np.tril(cm).sum()-np.trace(cm)\n",
    "\n",
    "recall=tp/(tp+fn)\n",
    "precision=tp/(tp+fp) \n",
    "print(\"recall    \", recall)\n",
    "print(\"precision \", precision)       "
   ]
  },
  {
   "cell_type": "code",
   "execution_count": 54,
   "metadata": {},
   "outputs": [],
   "source": [
    "from sklearn.metrics import precision_recall_curve\n",
    "from sklearn.metrics import roc_curve"
   ]
  },
  {
   "cell_type": "code",
   "execution_count": 51,
   "metadata": {},
   "outputs": [
    {
     "name": "stderr",
     "output_type": "stream",
     "text": [
      "C:\\ProgramData\\Anaconda3\\lib\\site-packages\\sklearn\\metrics\\_ranking.py:681: RuntimeWarning: invalid value encountered in true_divide\n",
      "  recall = tps / tps[-1]\n"
     ]
    },
    {
     "data": {
      "image/png": "[encoded data removed]",
      "text/plain": [
       "<Figure size 432x288 with 1 Axes>"
      ]
     },
     "metadata": {
      "needs_background": "light"
     },
     "output_type": "display_data"
    }
   ],
   "source": [
    "# precision recall curve\n",
    "n_classes = 6\n",
    "precision = dict()\n",
    "recall = dict()\n",
    "for i in range(n_classes):\n",
    "    precision[i], recall[i], _ = precision_recall_curve(y_test[:, i],\n",
    "                                                        Y_pred[:, i])\n",
    "    plt.plot(recall[i], precision[i], lw=2, label='class {}'.format(i))\n",
    "    \n",
    "plt.xlabel(\"recall\")\n",
    "plt.ylabel(\"precision\")\n",
    "plt.legend(loc=\"best\")\n",
    "plt.title(\"precision vs. recall curve\")\n",
    "plt.show()"
   ]
  },
  {
   "cell_type": "code",
   "execution_count": 55,
   "metadata": {},
   "outputs": [
    {
     "name": "stderr",
     "output_type": "stream",
     "text": [
      "C:\\ProgramData\\Anaconda3\\lib\\site-packages\\sklearn\\metrics\\_ranking.py:813: UndefinedMetricWarning: No positive samples in y_true, true positive value should be meaningless\n",
      "  UndefinedMetricWarning)\n"
     ]
    },
    {
     "data": {
      "image/png": "[encoded data removed]",
      "text/plain": [
       "<Figure size 432x288 with 1 Axes>"
      ]
     },
     "metadata": {
      "needs_background": "light"
     },
     "output_type": "display_data"
    }
   ],
   "source": [
    "# roc curve\n",
    "fpr = dict()\n",
    "tpr = dict()\n",
    "\n",
    "for i in range(n_classes):\n",
    "    fpr[i], tpr[i], _ = roc_curve(y_test[:, i],\n",
    "                                  Y_pred[:, i])\n",
    "    plt.plot(fpr[i], tpr[i], lw=2, label='class {}'.format(i))\n",
    "\n",
    "plt.xlabel(\"false positive rate\")\n",
    "plt.ylabel(\"true positive rate\")\n",
    "plt.legend(loc=\"best\")\n",
    "plt.title(\"ROC curve\")\n",
    "plt.show()"
   ]
  },
  {
   "cell_type": "code",
   "execution_count": null,
   "metadata": {},
   "outputs": [],
   "source": []
  }
 ],
 "metadata": {
  "kernelspec": {
   "display_name": "Python 3",
   "language": "python",
   "name": "python3"
  },
  "language_info": {
   "codemirror_mode": {
    "name": "ipython",
    "version": 3
   },
   "file_extension": ".py",
   "mimetype": "text/x-python",
   "name": "python",
   "nbconvert_exporter": "python",
   "pygments_lexer": "ipython3",
   "version": "3.7.6"
  }
 },
 "nbformat": 4,
 "nbformat_minor": 4
}
